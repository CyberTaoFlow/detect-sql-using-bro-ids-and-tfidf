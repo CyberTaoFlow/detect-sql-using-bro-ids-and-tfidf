{
 "cells": [
  {
   "cell_type": "code",
   "execution_count": 1,
   "metadata": {},
   "outputs": [
    {
     "name": "stderr",
     "output_type": "stream",
     "text": [
      "/anaconda/lib/python2.7/site-packages/ipykernel/__main__.py:9: ParserWarning: Falling back to the 'python' engine because the 'c' engine does not support regex separators (separators > 1 char and different from '\\s+' are interpreted as regex); you can avoid this warning by specifying engine='python'.\n"
     ]
    },
    {
     "name": "stdout",
     "output_type": "stream",
     "text": [
      "malicious    12892\n",
      "legit         1003\n",
      "Name: type, dtype: int64\n"
     ]
    },
    {
     "data": {
      "text/html": [
       "<div>\n",
       "<table border=\"1\" class=\"dataframe\">\n",
       "  <thead>\n",
       "    <tr style=\"text-align: right;\">\n",
       "      <th></th>\n",
       "      <th>raw_sql</th>\n",
       "      <th>type</th>\n",
       "    </tr>\n",
       "  </thead>\n",
       "  <tbody>\n",
       "    <tr>\n",
       "      <th>0</th>\n",
       "      <td>'; exec master..xp_cmdshell 'ping 10.10.1.2'--</td>\n",
       "      <td>malicious</td>\n",
       "    </tr>\n",
       "    <tr>\n",
       "      <th>1</th>\n",
       "      <td>create user name identified by 'pass123'</td>\n",
       "      <td>malicious</td>\n",
       "    </tr>\n",
       "    <tr>\n",
       "      <th>2</th>\n",
       "      <td>create user name identified by pass123 tempora...</td>\n",
       "      <td>malicious</td>\n",
       "    </tr>\n",
       "    <tr>\n",
       "      <th>3</th>\n",
       "      <td>exec sp_addlogin 'name' , 'password'</td>\n",
       "      <td>malicious</td>\n",
       "    </tr>\n",
       "    <tr>\n",
       "      <th>4</th>\n",
       "      <td>exec sp_addsrvrolemember 'name' , 'sysadmin'</td>\n",
       "      <td>malicious</td>\n",
       "    </tr>\n",
       "  </tbody>\n",
       "</table>\n",
       "</div>"
      ],
      "text/plain": [
       "                                             raw_sql       type\n",
       "0     '; exec master..xp_cmdshell 'ping 10.10.1.2'--  malicious\n",
       "1           create user name identified by 'pass123'  malicious\n",
       "2  create user name identified by pass123 tempora...  malicious\n",
       "3               exec sp_addlogin 'name' , 'password'  malicious\n",
       "4       exec sp_addsrvrolemember 'name' , 'sysadmin'  malicious"
      ]
     },
     "execution_count": 1,
     "metadata": {},
     "output_type": "execute_result"
    }
   ],
   "source": [
    "import sklearn.feature_extraction\n",
    "import pandas as pd\n",
    "# Read in a set of SQL statements from various sources\n",
    "import os\n",
    "basedir = 'data'\n",
    "filelist = os.listdir(basedir) \n",
    "df_list = []\n",
    "for file in filelist:\n",
    "    df = pd.read_csv(os.path.join(basedir,file), sep='|||', names=['raw_sql'], header=None)\n",
    "    df['type'] = 'legit' if file.split('.')[0] == 'legit' else 'malicious'\n",
    "    df_list.append(df)\n",
    "dataframe = pd.concat(df_list, ignore_index=True)\n",
    "dataframe.dropna(inplace=True)\n",
    "print dataframe['type'].value_counts()\n",
    "dataframe.head()"
   ]
  },
  {
   "cell_type": "code",
   "execution_count": 2,
   "metadata": {},
   "outputs": [
    {
     "data": {
      "text/html": [
       "<div>\n",
       "<table border=\"1\" class=\"dataframe\">\n",
       "  <thead>\n",
       "    <tr style=\"text-align: right;\">\n",
       "      <th></th>\n",
       "      <th>raw_sql</th>\n",
       "      <th>type</th>\n",
       "    </tr>\n",
       "  </thead>\n",
       "  <tbody>\n",
       "    <tr>\n",
       "      <th>count</th>\n",
       "      <td>13895</td>\n",
       "      <td>13895</td>\n",
       "    </tr>\n",
       "    <tr>\n",
       "      <th>unique</th>\n",
       "      <td>6436</td>\n",
       "      <td>2</td>\n",
       "    </tr>\n",
       "    <tr>\n",
       "      <th>top</th>\n",
       "      <td>ELSE 1/(SELECT 0 FROM DUAL) END) FROM DUAL)</td>\n",
       "      <td>malicious</td>\n",
       "    </tr>\n",
       "    <tr>\n",
       "      <th>freq</th>\n",
       "      <td>12</td>\n",
       "      <td>12892</td>\n",
       "    </tr>\n",
       "  </tbody>\n",
       "</table>\n",
       "</div>"
      ],
      "text/plain": [
       "                                            raw_sql       type\n",
       "count                                         13895      13895\n",
       "unique                                         6436          2\n",
       "top     ELSE 1/(SELECT 0 FROM DUAL) END) FROM DUAL)  malicious\n",
       "freq                                             12      12892"
      ]
     },
     "execution_count": 2,
     "metadata": {},
     "output_type": "execute_result"
    }
   ],
   "source": [
    "dataframe.describe()"
   ]
  },
  {
   "cell_type": "code",
   "execution_count": 11,
   "metadata": {},
   "outputs": [],
   "source": [
    "from sklearn.feature_extraction.text import TfidfVectorizer\n",
    "from sklearn.cross_validation import train_test_split\n",
    "\n",
    "X = dataframe.raw_sql\n",
    "y = dataframe[\"type\"]\n",
    "vec_opts = {\n",
    "    \"ngram_range\": (1, 1),  # allow n-grams of 1-4 words in length (32-bits)\n",
    "    \"analyzer\": \"word\",     # analyze hex words\n",
    "    \"token_pattern\": \".\",  # treat two characters as a word (e.g. 4b)\n",
    "    \"min_df\" : 0.1\n",
    "}\n",
    "v = TfidfVectorizer(**vec_opts)"
   ]
  },
  {
   "cell_type": "code",
   "execution_count": 12,
   "metadata": {},
   "outputs": [
    {
     "data": {
      "text/plain": [
       "[u' ',\n",
       " u'\"',\n",
       " u'#',\n",
       " u\"'\",\n",
       " u'(',\n",
       " u')',\n",
       " u',',\n",
       " u'-',\n",
       " u'0',\n",
       " u'1',\n",
       " u'2',\n",
       " u'3',\n",
       " u'4',\n",
       " u'5',\n",
       " u'6',\n",
       " u'7',\n",
       " u'8',\n",
       " u'9',\n",
       " u'=',\n",
       " u'a',\n",
       " u'b',\n",
       " u'c',\n",
       " u'd',\n",
       " u'e',\n",
       " u'f',\n",
       " u'g',\n",
       " u'h',\n",
       " u'i',\n",
       " u'j',\n",
       " u'k',\n",
       " u'l',\n",
       " u'm',\n",
       " u'n',\n",
       " u'o',\n",
       " u'p',\n",
       " u'q',\n",
       " u'r',\n",
       " u's',\n",
       " u't',\n",
       " u'u',\n",
       " u'v',\n",
       " u'w',\n",
       " u'x',\n",
       " u'y']"
      ]
     },
     "execution_count": 12,
     "metadata": {},
     "output_type": "execute_result"
    }
   ],
   "source": [
    "import numpy as np\n",
    "\n",
    "X = v.fit_transform(X)\n",
    "features = v.get_feature_names()\n",
    "features"
   ]
  },
  {
   "cell_type": "code",
   "execution_count": 13,
   "metadata": {
    "collapsed": true
   },
   "outputs": [],
   "source": [
    "from sklearn.feature_extraction.text import TfidfTransformer\n",
    "\n",
    "idf_opts = {\"use_idf\": True}\n",
    "idf = TfidfTransformer(**idf_opts)"
   ]
  },
  {
   "cell_type": "code",
   "execution_count": 14,
   "metadata": {},
   "outputs": [
    {
     "data": {
      "text/plain": [
       "13895"
      ]
     },
     "execution_count": 14,
     "metadata": {},
     "output_type": "execute_result"
    }
   ],
   "source": [
    "y.size"
   ]
  },
  {
   "cell_type": "code",
   "execution_count": 15,
   "metadata": {},
   "outputs": [
    {
     "name": "stderr",
     "output_type": "stream",
     "text": [
      "//anaconda/lib/python2.7/site-packages/sklearn/grid_search.py:43: DeprecationWarning: This module was deprecated in version 0.18 in favor of the model_selection module into which all the refactored classes and functions are moved. This module will be removed in 0.20.\n",
      "  DeprecationWarning)\n"
     ]
    }
   ],
   "source": [
    "from sklearn.naive_bayes import MultinomialNB\n",
    "from sklearn import metrics\n",
    "from sklearn.grid_search import GridSearchCV\n",
    "\n",
    "clf = MultinomialNB().fit(X, y)\n",
    "all_predictions = clf.predict(X)"
   ]
  },
  {
   "cell_type": "code",
   "execution_count": 16,
   "metadata": {},
   "outputs": [
    {
     "name": "stdout",
     "output_type": "stream",
     "text": [
      "             precision    recall  f1-score   support\n",
      "\n",
      "      legit       0.98      0.62      0.76      1003\n",
      "  malicious       0.97      1.00      0.98     12892\n",
      "\n",
      "avg / total       0.97      0.97      0.97     13895\n",
      "\n"
     ]
    }
   ],
   "source": [
    "from sklearn.metrics import classification_report\n",
    "print classification_report(y, all_predictions)"
   ]
  },
  {
   "cell_type": "code",
   "execution_count": null,
   "metadata": {
    "collapsed": true
   },
   "outputs": [],
   "source": []
  }
 ],
 "metadata": {
  "anaconda-cloud": {},
  "kernelspec": {
   "display_name": "Python [conda root]",
   "language": "python",
   "name": "conda-root-py"
  },
  "language_info": {
   "codemirror_mode": {
    "name": "ipython",
    "version": 2
   },
   "file_extension": ".py",
   "mimetype": "text/x-python",
   "name": "python",
   "nbconvert_exporter": "python",
   "pygments_lexer": "ipython2",
   "version": "2.7.12"
  }
 },
 "nbformat": 4,
 "nbformat_minor": 1
}
